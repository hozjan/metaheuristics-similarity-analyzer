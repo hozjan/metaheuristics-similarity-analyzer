{
 "cells": [
  {
   "cell_type": "code",
   "execution_count": 17,
   "metadata": {},
   "outputs": [],
   "source": [
    "import logging\n",
    "import multiprocessing\n",
    "import threading\n",
    "\n",
    "import niapy\n",
    "from niapy.algorithms.basic import (\n",
    "    BatAlgorithm,\n",
    "    FireflyAlgorithm,\n",
    "    ParticleSwarmOptimization,\n",
    ")\n",
    "from niapy.algorithms import Algorithm\n",
    "from niapy.problems.sphere import Sphere\n",
    "from niapy.task import Task\n",
    "import torch\n",
    "import pandas\n",
    "from matplotlib import pyplot as plt\n",
    "import numpy as np\n",
    "from numpy.random import default_rng\n",
    "\n",
    "from util.optimization_data import SingleRunData, PopulationData\n",
    "from util.diversity_metrics import DiversityMetric"
   ]
  },
  {
   "cell_type": "markdown",
   "metadata": {},
   "source": [
    "#### Constants"
   ]
  },
  {
   "cell_type": "code",
   "execution_count": 18,
   "metadata": {},
   "outputs": [],
   "source": [
    "RNG_SEED = 0"
   ]
  },
  {
   "cell_type": "code",
   "execution_count": 19,
   "metadata": {},
   "outputs": [],
   "source": [
    "def run_optimization(algorithm: Algorithm, task, single_run_data: SingleRunData):\n",
    "    try:\n",
    "        algorithm.callbacks.before_run()\n",
    "        pop, fpop, params = algorithm.init_population(task)\n",
    "        # reset seed to random\n",
    "        algorithm.rng = default_rng()\n",
    "        xb, fxb = algorithm.get_best(pop, fpop)\n",
    "        while not task.stopping_condition():\n",
    "            algorithm.callbacks.before_iteration(pop, fpop, xb, fxb, **params)\n",
    "            pop, fpop, xb, fxb, params = algorithm.run_iteration(\n",
    "                task, pop, fpop, xb, fxb, **params\n",
    "            )\n",
    "\n",
    "            # save population data\n",
    "            pop_data = PopulationData(\n",
    "                population=np.array(pop), population_fitness=np.array(fpop)\n",
    "            )\n",
    "            pop_data.calculate_metrics([DiversityMetric.PDC])\n",
    "            single_run_data.add_population(pop_data)\n",
    "\n",
    "            algorithm.callbacks.after_iteration(pop, fpop, xb, fxb, **params)\n",
    "            task.next_iter()\n",
    "        algorithm.callbacks.after_run()\n",
    "        return xb, fxb * task.optimization_type.value\n",
    "    except BaseException as e:\n",
    "        if (\n",
    "            threading.current_thread() is threading.main_thread()\n",
    "            and multiprocessing.current_process().name == \"MainProcess\"\n",
    "        ):\n",
    "            raise e\n",
    "        algorithm.exception = e\n",
    "        return None, None"
   ]
  }
 ],
 "metadata": {
  "kernelspec": {
   "display_name": ".venv",
   "language": "python",
   "name": "python3"
  },
  "language_info": {
   "codemirror_mode": {
    "name": "ipython",
    "version": 3
   },
   "file_extension": ".py",
   "mimetype": "text/x-python",
   "name": "python",
   "nbconvert_exporter": "python",
   "pygments_lexer": "ipython3",
   "version": "3.10.12"
  }
 },
 "nbformat": 4,
 "nbformat_minor": 2
}
