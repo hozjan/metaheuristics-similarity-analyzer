{
 "cells": [
  {
   "cell_type": "code",
   "execution_count": null,
   "metadata": {},
   "outputs": [],
   "source": [
    "from niapy.algorithms.basic import (\n",
    "    BatAlgorithm,\n",
    "    FireflyAlgorithm,\n",
    "    ParticleSwarmOptimization,\n",
    ")\n",
    "from niapy.problems.ackley import Ackley\n",
    "import torch\n",
    "from torch import nn\n",
    "from PIL import Image\n",
    "from matplotlib import pyplot as plt\n",
    "import os\n",
    "import numpy as np\n",
    "from tools.ml_tools import get_data_loaders, nn_test, nn_train, LSTM\n",
    "from util.optimization_data import SingleRunData\n",
    "from tools.optimization_tools import optimization_runner\n",
    "\n",
    "from util.constants import (\n",
    "    RNG_SEED,\n",
    "    DATASET_PATH,\n",
    "    BATCH_SIZE,\n",
    "    EPOCHS,\n",
    "    POP_SIZE,\n",
    "    MAX_EVALS,\n",
    "    NUM_RUNS,\n",
    "    POP_DIVERSITY_METRICS,\n",
    "    INDIV_DIVERSITY_METRICS,\n",
    ")\n",
    "\n",
    "execute_training = True"
   ]
  },
  {
   "cell_type": "markdown",
   "metadata": {},
   "source": [
    "### Optimization"
   ]
  },
  {
   "cell_type": "code",
   "execution_count": null,
   "metadata": {},
   "outputs": [],
   "source": [
    "for algorithm in [\n",
    "    BatAlgorithm(population_size=POP_SIZE),\n",
    "    FireflyAlgorithm(population_size=POP_SIZE),\n",
    "    ParticleSwarmOptimization(population_size=POP_SIZE, c1=1.0, c2=1.0),\n",
    "]:\n",
    "    problem = Ackley()\n",
    "    optimization_runner(\n",
    "        algorithm,\n",
    "        problem,\n",
    "        NUM_RUNS,\n",
    "        DATASET_PATH,\n",
    "        POP_DIVERSITY_METRICS,\n",
    "        INDIV_DIVERSITY_METRICS,\n",
    "        max_evals=MAX_EVALS,\n",
    "        rng_seed=RNG_SEED,\n",
    "        parallel_processing=True,\n",
    "    )"
   ]
  },
  {
   "cell_type": "markdown",
   "metadata": {},
   "source": [
    "### Metrics comparison"
   ]
  },
  {
   "cell_type": "code",
   "execution_count": null,
   "metadata": {},
   "outputs": [],
   "source": [
    "for algorithm in os.listdir(DATASET_PATH):\n",
    "    for problem in os.listdir(os.path.join(DATASET_PATH, algorithm)):\n",
    "        runs = os.listdir(os.path.join(DATASET_PATH, algorithm, problem))\n",
    "        run_path = os.path.join(DATASET_PATH, algorithm, problem, runs[0])\n",
    "        pop_metrics = SingleRunData.import_from_json(run_path).get_pop_diversity_metrics_values(normalize=True)\n",
    "        pop_metrics.plot(title=\" \".join([algorithm, problem]), figsize=(20,5))"
   ]
  },
  {
   "cell_type": "code",
   "execution_count": null,
   "metadata": {},
   "outputs": [],
   "source": [
    "device = torch.device(\"cuda\") if torch.cuda.is_available() else torch.device(\"cpu\")\n",
    "print(device)\n",
    "print(\"CPUs: \", os.cpu_count())"
   ]
  },
  {
   "cell_type": "code",
   "execution_count": null,
   "metadata": {},
   "outputs": [],
   "source": [
    "train_data_loader, val_data_loader, test_data_loader, labels = get_data_loaders(DATASET_PATH, BATCH_SIZE, problems=[\"Ackley\"], random_state=RNG_SEED)\n",
    "\n",
    "pop_features, indiv_features, target = next(iter(train_data_loader))\n",
    "model = LSTM(np.shape(pop_features)[2], np.shape(indiv_features)[1], len(labels))\n",
    "optimizer = torch.optim.Adam(model.parameters(), lr=1e-5)\n",
    "loss_fn = nn.CrossEntropyLoss()\n",
    "model_file_name = f\"lstm_model.pt\"\n",
    "\n",
    "if execute_training:\n",
    "    model.to(device)\n",
    "    nn_train(model, train_data_loader, val_data_loader, EPOCHS, loss_fn, optimizer, device, model_file_name, verbal=True)\n",
    "else:\n",
    "    model = torch.load(model_file_name, map_location=torch.device(device))\n",
    "    model.to(device)\n",
    "    if os.path.exists('loss_plot.png'):\n",
    "        loss_plot = np.asarray(Image.open('loss_plot.png'))\n",
    "        plt.axis(\"off\")\n",
    "        plt.imshow(loss_plot)"
   ]
  },
  {
   "cell_type": "code",
   "execution_count": null,
   "metadata": {},
   "outputs": [],
   "source": [
    "nn_test(model, test_data_loader, device, labels=labels, show_classification_report=True)"
   ]
  }
 ],
 "metadata": {
  "kernelspec": {
   "display_name": ".venv",
   "language": "python",
   "name": "python3"
  },
  "language_info": {
   "codemirror_mode": {
    "name": "ipython",
    "version": 3
   },
   "file_extension": ".py",
   "mimetype": "text/x-python",
   "name": "python",
   "nbconvert_exporter": "python",
   "pygments_lexer": "ipython3",
   "version": "3.10.14"
  }
 },
 "nbformat": 4,
 "nbformat_minor": 2
}
