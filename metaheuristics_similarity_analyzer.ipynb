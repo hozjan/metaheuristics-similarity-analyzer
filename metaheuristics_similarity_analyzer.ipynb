{
 "cells": [
  {
   "cell_type": "code",
   "execution_count": 1,
   "metadata": {},
   "outputs": [],
   "source": [
    "import logging\n",
    "import multiprocessing\n",
    "import threading\n",
    "\n",
    "import niapy\n",
    "from niapy.algorithms.basic import BatAlgorithm, FireflyAlgorithm, ParticleSwarmOptimization\n",
    "from niapy.algorithms import Algorithm\n",
    "from niapy.problems.ackley import Ackley\n",
    "from niapy import Runner\n",
    "from niapy.task import Task\n",
    "import torch\n",
    "import pandas\n",
    "from matplotlib import pyplot as plt\n",
    "import numpy as np"
   ]
  }
 ],
 "metadata": {
  "kernelspec": {
   "display_name": ".venv",
   "language": "python",
   "name": "python3"
  },
  "language_info": {
   "codemirror_mode": {
    "name": "ipython",
    "version": 3
   },
   "file_extension": ".py",
   "mimetype": "text/x-python",
   "name": "python",
   "nbconvert_exporter": "python",
   "pygments_lexer": "ipython3",
   "version": "3.10.12"
  }
 },
 "nbformat": 4,
 "nbformat_minor": 2
}
