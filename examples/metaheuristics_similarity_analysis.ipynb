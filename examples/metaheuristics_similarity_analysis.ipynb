{
 "cells": [
  {
   "cell_type": "markdown",
   "id": "d236c0e5",
   "metadata": {},
   "source": [
    "# Metaheuristics similarity analysis using `MetaheuristicsSimilarityAnalyzer`\n",
    "\n",
    "This example is a tutorial and a showcase of the MSA framework capabilities and features for similarity analysis of metaheuristics."
   ]
  },
  {
   "cell_type": "markdown",
   "id": "71c2e493",
   "metadata": {},
   "source": [
    "### Import tools and libraries"
   ]
  },
  {
   "cell_type": "code",
   "execution_count": null,
   "id": "76048bbd",
   "metadata": {},
   "outputs": [],
   "source": [
    "# Analysis tools\n",
    "from msa.tools.metaheuristics_similarity_analyzer import MetaheuristicsSimilarityAnalyzer\n",
    "from msa.tools.meta_ga import MetaGAFitnessFunction, MetaGA\n",
    "\n",
    "# Diversity metrics\n",
    "from msa.diversity_metrics.individual_diversity.idt import IDT\n",
    "from msa.diversity_metrics.individual_diversity.ifiqr import IFIQR\n",
    "from msa.diversity_metrics.individual_diversity.ifm import IFM\n",
    "from msa.diversity_metrics.individual_diversity.isi import ISI\n",
    "from msa.diversity_metrics.population_diversity.dpc import DPC\n",
    "from msa.diversity_metrics.population_diversity.fdc import FDC\n",
    "from msa.diversity_metrics.population_diversity.pfm import PFM\n",
    "from msa.diversity_metrics.population_diversity.pfsd import PFSD\n",
    "\n",
    "# Optimization problem from the NiaPy framework\n",
    "from niapy.problems.schwefel import Schwefel\n",
    "\n",
    "# Other tools\n",
    "import os\n",
    "import numpy as np\n",
    "import matplotlib\n",
    "matplotlib.use(\"inline\")\n",
    "\n",
    "# Define constants for later use\n",
    "base_archive_path = \"archive\"\n",
    "msa_pkl_filename = \"msa_example\""
   ]
  },
  {
   "cell_type": "markdown",
   "id": "378a75e1",
   "metadata": {},
   "source": [
    "### Define gene spaces used for the analysis\n",
    "Name of the algorithm can be a string corresponding with the name of the algorithm class from the `niapy.algorithms` framework, or a class inheriting from the niapy `Algorithm` class. Names of the hyperparameters must correspond with the names of selected algorithm constructor arguments.\n",
    "\n",
    "---\n",
    "**_TIP:_** In the following step are some gene space examples to use in the following code. Try defining gene spaces for other algorithms from niapy framework.\n",
    "\n",
    "---\n",
    "**_NOTE:_** Make sure that algorithm returns `sorted_idx` as the result of `argsort` under `Additional arguments` in `run_iteration` method if it is using sorting. Some algorithms will require adaptation for the analysis to work as intended. See `msa.algorithms.fa` as an example.\n",
    "\n",
    "---"
   ]
  },
  {
   "cell_type": "code",
   "execution_count": null,
   "id": "2abb3620",
   "metadata": {},
   "outputs": [],
   "source": [
    "from msa.algorithms.pso import ParticleSwarmAlgorithm # Modified using `limit` repair\n",
    "from msa.algorithms.fa import FireflyAlgorithm # Modified for faster processing with help of @jit and use of `sorted_idx`\n",
    "from niapy.algorithms.basic.de import DifferentialEvolution\n",
    "\n",
    "PSO_gene_space = {\n",
    "    ParticleSwarmAlgorithm: {\n",
    "        \"c1\": {\"low\": 0.01, \"high\": 2.5, \"step\": 0.01},\n",
    "        \"c2\": {\"low\": 0.01, \"high\": 2.5, \"step\": 0.01},\n",
    "        \"w\": {\"low\": 0.0, \"high\": 1.0, \"step\": 0.01},\n",
    "    }\n",
    "}\n",
    "\n",
    "BA_gene_space = {\n",
    "    \"BatAlgorithm\": {\n",
    "        \"loudness\": {\"low\": 0.01, \"high\": 1.0, \"step\": 0.01},\n",
    "        \"pulse_rate\": {\"low\": 0.01, \"high\": 1.0, \"step\": 0.01},\n",
    "        \"alpha\": {\"low\": 0.9, \"high\": 1.0, \"step\": 0.001},\n",
    "        \"gamma\": {\"low\": 0.0, \"high\": 1.0, \"step\": 0.01},\n",
    "    }\n",
    "}\n",
    "\n",
    "FA_gene_space = {\n",
    "    FireflyAlgorithm: {\n",
    "        \"alpha\": {\"low\": 0.01, \"high\": 1.0, \"step\": 0.01},\n",
    "        \"beta0\": {\"low\": 0.01, \"high\": 1.0, \"step\": 0.01},\n",
    "        \"gamma\": {\"low\": 0.0, \"high\": 1.0, \"step\": 0.001},\n",
    "        \"theta\": {\"low\": 0.95, \"high\": 1.0, \"step\": 0.001},\n",
    "    }\n",
    "}\n",
    "\n",
    "DE_gene_space = {\n",
    "    DifferentialEvolution: {\n",
    "        \"differential_weight\": {\"low\": 0.01, \"high\": 1.0, \"step\": 0.01},\n",
    "        \"crossover_probability\": {\"low\": 0.01, \"high\": 1.0, \"step\": 0.01},\n",
    "    }\n",
    "}\n"
   ]
  },
  {
   "cell_type": "markdown",
   "id": "37fd0aa2",
   "metadata": {},
   "source": [
    "### Choose the optimization problem and the diversity metrics to use for the analysis\n",
    "* Individual diversity metrics are available in `msa.diversity_metrics.individual_diversity`.\n",
    "* Population diversity metrics are available in `msa.diversity_metrics.population_diversity`.\n",
    "\n",
    "---\n",
    "**_TIP:_** To add custom diversity metrics implement a class inheriting from either `PopDiversityMetric` or `IndivDiversityMetric` available in `msa.tools.optimization_data`.\n",
    "\n",
    "---\n",
    "\n",
    "**_NOTE:_** Make sure to define metrics with the optimization problem used for the analysis, since some of them use its parameters.\n",
    "\n",
    "---"
   ]
  },
  {
   "cell_type": "code",
   "execution_count": null,
   "id": "8d5e0286",
   "metadata": {},
   "outputs": [],
   "source": [
    "OPTIMIZATION_PROBLEM = Schwefel(dimension=20)\n",
    "\n",
    "POP_DIVERSITY_METRICS = [\n",
    "    DPC(OPTIMIZATION_PROBLEM),\n",
    "    FDC(OPTIMIZATION_PROBLEM, [420.968746], True),\n",
    "    PFSD(),\n",
    "    PFM(),\n",
    "]\n",
    "INDIV_DIVERSITY_METRICS = [\n",
    "    IDT(),\n",
    "    ISI(),\n",
    "    IFM(),\n",
    "    IFIQR(),\n",
    "]"
   ]
  },
  {
   "cell_type": "markdown",
   "id": "c97318c9",
   "metadata": {},
   "source": [
    "### Define a MetaGA instance used for the analysis\n",
    "* Set `fitness_function_type` to `MetaGAFitnessFunction.TARGET_PERFORMANCE_SIMILARITY`.\n",
    "* Arguments starting with `ga_` correspond with the arguments of the class `GA` from `pygad` module.\n",
    "* Set `gene_space` to gene space of the algorithm to be optimized.\n",
    "\n",
    "---\n",
    "**_TIP:_** Try out gene spaces defined in previous step or add new ones to analyze similarity of other algorithms.\n",
    "\n",
    "---\n",
    "\n",
    "**_NOTE:_** MetaGA in this configuration can be used as a standalone tool, however to get the most out of the analysis it is recommended to use it in combination with `MetaheuristicsSimilarityAnalyzer` as shown in the next step.\n",
    "\n",
    "---"
   ]
  },
  {
   "cell_type": "code",
   "execution_count": null,
   "id": "f87a5d65",
   "metadata": {},
   "outputs": [],
   "source": [
    "meta_ga = MetaGA(\n",
    "    fitness_function_type=MetaGAFitnessFunction.TARGET_PERFORMANCE_SIMILARITY,\n",
    "    ga_generations=3,\n",
    "    ga_solutions_per_pop=5,\n",
    "    ga_percent_parents_mating=60,\n",
    "    ga_parent_selection_type=\"tournament\",\n",
    "    ga_k_tournament=2,\n",
    "    ga_crossover_type=\"uniform\",\n",
    "    ga_mutation_type=\"random\",\n",
    "    ga_crossover_probability=0.9,\n",
    "    ga_mutation_num_genes=1,\n",
    "    ga_keep_elitism=1,\n",
    "    gene_space=FA_gene_space,\n",
    "    pop_size=30,\n",
    "    max_evals=10000,\n",
    "    num_runs=30,\n",
    "    problem=OPTIMIZATION_PROBLEM,\n",
    "    pop_diversity_metrics=POP_DIVERSITY_METRICS,\n",
    "    indiv_diversity_metrics=INDIV_DIVERSITY_METRICS,\n",
    ")"
   ]
  },
  {
   "cell_type": "markdown",
   "id": "e5a3089b",
   "metadata": {},
   "source": [
    "### Define a MSA instance and start the analysis\n",
    "MetaheuristicsSimilarityAnalyzer accepts the previously defined MetaGA under `meta_ga` and the gene space of the reference metaheuristic under `target_gene_space`.\n",
    "\n",
    "Argument options of the `run_similarity_analysis` method:\n",
    "* Specify `num_comparisons` to the desired number of comparisons to perform in the analysis. The configurations of the reference metaheuristic will be generated at random. To use optimized/tuned configurations set `generate_optimized_targets` to `True`.\n",
    "    - To use specific configurations of the target metaheuristic instead, provide them under `target_solutions` argument. In this case `num_comparisons` will be ignored.\n",
    "* Setting `export` to `True` produces a .pkl file which can be imported for later use.\n",
    "* Setting `get_info` to `True` produces a workflow diagram displaying useful information.\n",
    "* Setting `generate_dataset` to `True` generates a dataset which enables the calculation of similarity metrics for final similarity assessment.\n",
    "* Setting `calculate_similarity_metrics` to `True` triggers calculation of similarity metrics.\n",
    "\n",
    "---\n",
    "**_NOTE:_** Use different `prefix` value for future experiments to prevent overwriting the existing export. It can also be left unspecified to use the current datetime value.\n",
    "\n",
    "---"
   ]
  },
  {
   "cell_type": "code",
   "execution_count": null,
   "id": "e9c93bda",
   "metadata": {},
   "outputs": [],
   "source": [
    "msa = MetaheuristicsSimilarityAnalyzer(\n",
    "    meta_ga=meta_ga,\n",
    "    target_gene_space=PSO_gene_space,\n",
    "    base_archive_path=base_archive_path\n",
    ")\n",
    "\n",
    "target_solutions = [\n",
    "    np.array([1.95, 1.09, 0.78]),\n",
    "    np.array([1.87, 1.05, 0.84]),\n",
    "]\n",
    "\n",
    "msa.run_similarity_analysis(\n",
    "    num_comparisons=2,\n",
    "    #target_solutions=target_solutions,\n",
    "    get_info=True,\n",
    "    generate_dataset=True,\n",
    "    num_runs=150,\n",
    "    calculate_similarity_metrics=True,\n",
    "    export=True,\n",
    "    prefix=\"analysis_example\",\n",
    "    pkl_filename=msa_pkl_filename,\n",
    ")"
   ]
  },
  {
   "cell_type": "markdown",
   "id": "8718bb0b",
   "metadata": {},
   "source": [
    "### Import MSA instance\n",
    "\n",
    "Setting `export` argument to `True` in the previous step enables importing via the static method `MetaheuristicsSimilarityAnalyzer.import_from_pkl`.\n",
    "\n",
    "---\n",
    "**_NOTE:_** Make sure to provide the correct path to the exported .pkl file.\n",
    "\n",
    "---"
   ]
  },
  {
   "cell_type": "code",
   "execution_count": null,
   "id": "1bfb7a0d",
   "metadata": {},
   "outputs": [],
   "source": [
    "pkl_path = os.path.join(base_archive_path, \"analysis_example_PSO-FA_Schwefel\", msa_pkl_filename)\n",
    "print(pkl_path)\n",
    "imported_msa = MetaheuristicsSimilarityAnalyzer.import_from_pkl(pkl_path)"
   ]
  },
  {
   "cell_type": "markdown",
   "id": "9d7cbfef",
   "metadata": {},
   "source": [
    "### Export results of the analysis to LaTeX and generate a PDF\n",
    "A .tex file showing results can be created:\n",
    "* Set `generate_pdf` to true to convert the file to .pdf format.\n",
    "\n",
    "Files will be saved under the corresponding analysis directory."
   ]
  },
  {
   "cell_type": "code",
   "execution_count": null,
   "id": "8c0b1290",
   "metadata": {},
   "outputs": [],
   "source": [
    "imported_msa.export_results_to_latex(generate_pdf=True, filename=\"MSA_example_results\")"
   ]
  },
  {
   "cell_type": "markdown",
   "id": "0850e782",
   "metadata": {},
   "source": [
    "### Plot solution evolution for each comparison\n",
    "Call `plot_solutions` to create a plot showing solutions of MetaGA trough generations:\n",
    "* Provide the index of the comparison under `comparison_index` to specify for which comparison the plot will be created.\n",
    "* Set `all_solutions` to `True` to plot all solutions or leave it at default value `False` to plot only the best solutions of each generation.\n",
    "\n",
    "Plots will be saved under the corresponding comparison directory."
   ]
  },
  {
   "cell_type": "code",
   "execution_count": null,
   "id": "d27f3383",
   "metadata": {},
   "outputs": [],
   "source": [
    "imported_msa.plot_solutions(comparison_index=0, filename=\"meta_ga_all_solutions_evolution\", all_solutions=True)"
   ]
  },
  {
   "cell_type": "code",
   "execution_count": null,
   "id": "1561fa01",
   "metadata": {},
   "outputs": [],
   "source": [
    "imported_msa.plot_solutions(comparison_index=0, filename=\"meta_ga_best_solutions_evolution\")"
   ]
  },
  {
   "cell_type": "markdown",
   "id": "0ec2f5ed",
   "metadata": {},
   "source": [
    "### Plot MetaGA fitness\n",
    "Call `plot_fitness` to create a plot showing the fitness of the best solution found by MetaGA in each generation:\n",
    "* Provide the index of the comparison under `comparison_index` to specify for which comparison the plot will be created.\n",
    "\n",
    "Plot will be saved under the corresponding comparison directory."
   ]
  },
  {
   "cell_type": "code",
   "execution_count": null,
   "id": "de3ce5ad",
   "metadata": {},
   "outputs": [],
   "source": [
    "imported_msa.plot_fitness(comparison_index=0, filename=\"meta_ga_fitness_plot\")"
   ]
  },
  {
   "cell_type": "markdown",
   "id": "4ed517f7",
   "metadata": {},
   "source": [
    "### Plot diversity metrics\n",
    "Plots showing diversity metrics can be created:\n",
    "* Call `indiv_diversity_metrics_comparison` to create a plot showing values of individual diversity metrics.\n",
    "    + Provide the index of the comparison under `comparison_index` to specify for which comparison the plot will be created.\n",
    "* Call `pop_diversity_metrics_comparison` to create a plot showing values of population diversity metrics.\n",
    "    + Provide the index of the comparison under `comparison_index` to specify for which comparison the plot will be created.\n",
    "    + Set `separate` to `True` to show metrics on separate axes for better clarity.\n",
    "\n",
    "---\n",
    "**_INFO:_** Diversity metrics are shown by run index since both of the metaheuristic algorithms populations were initialized with an rng which uses run index as the seed. This can be observed in population diversity metric plots, where plot lines of both algorithms for each metric start at the same value and then diverge based on algorithms behavior.\n",
    "\n",
    "---"
   ]
  },
  {
   "cell_type": "code",
   "execution_count": null,
   "id": "f18c84d7",
   "metadata": {},
   "outputs": [],
   "source": [
    "imported_msa.indiv_diversity_metrics_comparison(comparison_index=0, run_index=0)"
   ]
  },
  {
   "cell_type": "code",
   "execution_count": null,
   "id": "97b6e6e8",
   "metadata": {},
   "outputs": [],
   "source": [
    "imported_msa.pop_diversity_metrics_comparison(comparison_index=0, run_index=0)"
   ]
  },
  {
   "cell_type": "code",
   "execution_count": null,
   "id": "1768045c",
   "metadata": {},
   "outputs": [],
   "source": [
    "imported_msa.pop_diversity_metrics_comparison(comparison_index=0, run_index=0, separate=True)"
   ]
  }
 ],
 "metadata": {
  "kernelspec": {
   "display_name": "msa-py3.13",
   "language": "python",
   "name": "python3"
  },
  "language_info": {
   "codemirror_mode": {
    "name": "ipython",
    "version": 3
   },
   "file_extension": ".py",
   "mimetype": "text/x-python",
   "name": "python",
   "nbconvert_exporter": "python",
   "pygments_lexer": "ipython3",
   "version": "3.10.18"
  }
 },
 "nbformat": 4,
 "nbformat_minor": 5
}
