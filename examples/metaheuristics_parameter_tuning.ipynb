{
 "cells": [
  {
   "cell_type": "markdown",
   "metadata": {},
   "source": [
    "# Metaheuristics parameter tuning using MetaGA\n",
    "\n",
    "This example is a tutorial and a showcase of the MSA framework capabilities and features for tuning metaheuristics parameters."
   ]
  },
  {
   "cell_type": "markdown",
   "metadata": {},
   "source": [
    "### Import tools and libraries"
   ]
  },
  {
   "cell_type": "code",
   "execution_count": null,
   "metadata": {},
   "outputs": [],
   "source": [
    "# Analysis tools\n",
    "from msa.tools.meta_ga import MetaGAFitnessFunction, MetaGA\n",
    "\n",
    "# Optimization problem from the NiaPy framework\n",
    "from niapy.problems.schwefel import Schwefel\n",
    "\n",
    "# Other tools\n",
    "import os\n",
    "import pprint\n",
    "import matplotlib\n",
    "matplotlib.use(\"inline\")\n",
    "\n",
    "# Define constants for later use\n",
    "base_archive_path = \"archive\"\n",
    "meta_ga_pkl_filename = \"meta_ga_example\""
   ]
  },
  {
   "cell_type": "markdown",
   "metadata": {},
   "source": [
    "### Define gene spaces used for the parameter tuning\n",
    "Name of the algorithm can be a string corresponding with the name of the algorithm class from the `niapy.algorithms` framework, or a class inheriting from the niapy `Algorithm` class. Names of the hyperparameters must correspond with the names of selected algorithm constructor arguments.\n",
    "\n",
    "---\n",
    "**_TIP:_** In the following step are some gene space examples to use in the following code. Try defining gene spaces for other algorithms from niapy framework.\n",
    "\n",
    "---"
   ]
  },
  {
   "cell_type": "code",
   "execution_count": null,
   "metadata": {},
   "outputs": [],
   "source": [
    "from msa.algorithms.pso import ParticleSwarmAlgorithm # Modified using `limit` repair\n",
    "from msa.algorithms.fa import FireflyAlgorithm # Modified for faster processing with help of @jit and reduction of evaluations per generation\n",
    "from niapy.algorithms.basic.de import DifferentialEvolution\n",
    "from niapy.algorithms.basic.bea import BeesAlgorithm\n",
    "\n",
    "PSO_gene_space = {\n",
    "    ParticleSwarmAlgorithm: {\n",
    "        \"c1\": {\"low\": 0.01, \"high\": 2.5, \"step\": 0.01},\n",
    "        \"c2\": {\"low\": 0.01, \"high\": 2.5, \"step\": 0.01},\n",
    "        \"w\": {\"low\": 0.0, \"high\": 1.0, \"step\": 0.01},\n",
    "    }\n",
    "}\n",
    "\n",
    "BA_gene_space = {\n",
    "    \"BatAlgorithm\": {\n",
    "        \"loudness\": {\"low\": 0.01, \"high\": 1.0, \"step\": 0.01},\n",
    "        \"pulse_rate\": {\"low\": 0.01, \"high\": 1.0, \"step\": 0.01},\n",
    "        \"alpha\": {\"low\": 0.9, \"high\": 1.0, \"step\": 0.001},\n",
    "        \"gamma\": {\"low\": 0.0, \"high\": 1.0, \"step\": 0.01},\n",
    "    }\n",
    "}\n",
    "\n",
    "FA_gene_space = {\n",
    "    FireflyAlgorithm: {\n",
    "        \"alpha\": {\"low\": 0.01, \"high\": 1.0, \"step\": 0.01},\n",
    "        \"beta0\": {\"low\": 0.01, \"high\": 1.0, \"step\": 0.01},\n",
    "        \"gamma\": {\"low\": 0.0, \"high\": 1.0, \"step\": 0.001},\n",
    "        \"theta\": {\"low\": 0.95, \"high\": 1.0, \"step\": 0.001},\n",
    "    }\n",
    "}\n",
    "\n",
    "DE_gene_space = {\n",
    "    DifferentialEvolution: {\n",
    "        \"differential_weight\": {\"low\": 0.01, \"high\": 1.0, \"step\": 0.01},\n",
    "        \"crossover_probability\": {\"low\": 0.01, \"high\": 1.0, \"step\": 0.01},\n",
    "    }\n",
    "}\n"
   ]
  },
  {
   "cell_type": "markdown",
   "metadata": {},
   "source": [
    "### Choose the optimization problem used for the parameter tuning"
   ]
  },
  {
   "cell_type": "code",
   "execution_count": null,
   "metadata": {},
   "outputs": [],
   "source": [
    "OPTIMIZATION_PROBLEM = Schwefel(dimension=20)"
   ]
  },
  {
   "cell_type": "markdown",
   "metadata": {},
   "source": [
    "### Define a MetaGA instance and start tuning\n",
    "* Set `fitness_function_type` to `MetaGAFitnessFunction.TARGET_PERFORMANCE_SIMILARITY`.\n",
    "* Arguments starting with `ga_` correspond with the arguments of the class `GA` from `pygad` module.\n",
    "* Set `gene_space` to gene space of the algorithm to be optimized.\n",
    "\n",
    "---\n",
    "**_TIP:_** Try out gene spaces defined in previous step or add new ones to tune their parameters.\n",
    "\n",
    "---\n",
    "**_NOTE:_** Use different `prefix` value for future experiments to prevent overwriting the existing export. It can also be left unspecified to use the current datetime value.\n",
    "\n",
    "---"
   ]
  },
  {
   "cell_type": "code",
   "execution_count": null,
   "metadata": {},
   "outputs": [],
   "source": [
    "meta_ga = MetaGA(\n",
    "    fitness_function_type=MetaGAFitnessFunction.PARAMETER_TUNING,\n",
    "    ga_generations=3,\n",
    "    ga_solutions_per_pop=5,\n",
    "    ga_percent_parents_mating=60,\n",
    "    ga_parent_selection_type=\"tournament\",\n",
    "    ga_k_tournament=2,\n",
    "    ga_crossover_type=\"uniform\",\n",
    "    ga_mutation_type=\"random\",\n",
    "    ga_crossover_probability=0.9,\n",
    "    ga_mutation_num_genes=1,\n",
    "    ga_keep_elitism=1,\n",
    "    gene_space=FA_gene_space,\n",
    "    pop_size=30,\n",
    "    max_evals=10000,\n",
    "    num_runs=30,\n",
    "    problem=OPTIMIZATION_PROBLEM,\n",
    "    base_archive_path=base_archive_path,\n",
    ")\n",
    "\n",
    "best_solution = meta_ga.run_meta_ga(\n",
    "    get_info=True, prefix=\"tuning_example\", export=True, pkl_filename=meta_ga_pkl_filename\n",
    ")"
   ]
  },
  {
   "cell_type": "markdown",
   "metadata": {},
   "source": [
    "### Apply the best solution\n",
    "The best solution of MetaGA can be applied to the algorithm via `MetaGA.solution_to_algorithm_attributes` method."
   ]
  },
  {
   "cell_type": "code",
   "execution_count": null,
   "metadata": {},
   "outputs": [],
   "source": [
    "algorithm = MetaGA.solution_to_algorithm_attributes(solution=best_solution, gene_space=meta_ga.gene_space, pop_size=30)\n",
    "pprint.pprint(algorithm.get_parameters())"
   ]
  },
  {
   "cell_type": "markdown",
   "metadata": {},
   "source": [
    "### Import MetaGA instance\n",
    "\n",
    "Setting `export` argument to `True` in the previous step enables importing via the static method `MetaGA.import_from_pkl`.\n",
    "\n",
    "---\n",
    "**_NOTE:_** Make sure to provide the correct path to the exported .pkl file.\n",
    "\n",
    "---"
   ]
  },
  {
   "cell_type": "code",
   "execution_count": null,
   "metadata": {},
   "outputs": [],
   "source": [
    "pkl_path = os.path.join(base_archive_path, \"tuning_example_FA_Schwefel\", meta_ga_pkl_filename)\n",
    "print(pkl_path)\n",
    "imported_meta_ga = MetaGA.import_from_pkl(pkl_path)"
   ]
  },
  {
   "cell_type": "markdown",
   "metadata": {},
   "source": [
    "### Plot MetaGA solution evolution\n",
    "Call `plot_solutions` to create a plot showing solutions of MetaGA trough generations:\n",
    "* Set `all_solutions` to `True` to plot all solutions or leave it at default value `False` to plot only the best solutions of each generation.\n",
    "\n",
    "Plots will be saved under the corresponding directory."
   ]
  },
  {
   "cell_type": "code",
   "execution_count": null,
   "metadata": {},
   "outputs": [],
   "source": [
    "imported_meta_ga.plot_solutions(filename=\"meta_ga_all_solutions_evolution\", all_solutions=True)"
   ]
  },
  {
   "cell_type": "code",
   "execution_count": null,
   "metadata": {},
   "outputs": [],
   "source": [
    "imported_meta_ga.plot_solutions(filename=\"meta_ga_best_solutions_evolution\")"
   ]
  },
  {
   "cell_type": "markdown",
   "metadata": {},
   "source": [
    "### Plot MetaGA fitness\n",
    "Call `plot_fitness` to create a plot showing the fitness of the best solution found by MetaGA in each generation:\n",
    "Fitness is calculated as fitness of the best solution for the optimization problem found by the metaheuristic being tuned, to the power of -1.\n",
    "\n",
    "Plot will be saved under the corresponding directory."
   ]
  },
  {
   "cell_type": "code",
   "execution_count": null,
   "metadata": {},
   "outputs": [],
   "source": [
    "imported_meta_ga.plot_fitness(filename=\"meta_ga_fitness_plot\")"
   ]
  }
 ],
 "metadata": {
  "kernelspec": {
   "display_name": ".venv",
   "language": "python",
   "name": "python3"
  },
  "language_info": {
   "codemirror_mode": {
    "name": "ipython",
    "version": 3
   },
   "file_extension": ".py",
   "mimetype": "text/x-python",
   "name": "python",
   "nbconvert_exporter": "python",
   "pygments_lexer": "ipython3",
   "version": "3.10.18"
  }
 },
 "nbformat": 4,
 "nbformat_minor": 2
}
